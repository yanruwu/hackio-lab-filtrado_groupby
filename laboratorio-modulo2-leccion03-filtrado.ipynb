{
 "cells": [
  {
   "cell_type": "markdown",
   "id": "58d52421",
   "metadata": {},
   "source": [
    "<div style=\"text-align: center;\">\n",
    "  <img src=\"https://github.com/Hack-io-Data/Imagenes/blob/main/01-LogosHackio/logo_naranja@4x.png?raw=true\" alt=\"esquema\" />\n",
    "</div>"
   ]
  },
  {
   "cell_type": "markdown",
   "id": "5976b91e",
   "metadata": {},
   "source": [
    "# Laboratorio Filtrado de Datos\n",
    "\n",
    "En este laboratorio usaremos el DataFrame creado en la lección anterior resultado de la unión de los conjuntos de datos compartidos contigo. \n",
    "\n",
    "**Instrucciones:**\n",
    "\n",
    "1. Lee cuidadosamente el enunciado de cada ejercicio.\n",
    "\n",
    "2. Implementa la solución en la celda de código proporcionada."
   ]
  },
  {
   "cell_type": "code",
   "execution_count": 1,
   "id": "f2bec536",
   "metadata": {},
   "outputs": [],
   "source": [
    "import pandas as pd"
   ]
  },
  {
   "cell_type": "code",
   "execution_count": 2,
   "id": "f33d92ae",
   "metadata": {},
   "outputs": [],
   "source": [
    "# Carga el dataset de trabajo\n",
    "df = pd.read_csv(\"datos/df_merged.csv\")"
   ]
  },
  {
   "cell_type": "markdown",
   "id": "baef3e35",
   "metadata": {},
   "source": [
    "#### Ejercicio 1: ¿Cuáles son todos los títulos lanzados en 2021 que son del tipo 'Movie'?"
   ]
  },
  {
   "cell_type": "code",
   "execution_count": 3,
   "id": "d53e9422",
   "metadata": {},
   "outputs": [],
   "source": [
    "filtro_movie = df[\"type\"] == \"Movie\""
   ]
  },
  {
   "cell_type": "markdown",
   "id": "e0bc11c3",
   "metadata": {},
   "source": [
    "#### Ejercicio 2: ¿Qué títulos tienen una duración de 90 minutos? Muestra solo las columnas de título y de duración."
   ]
  },
  {
   "cell_type": "code",
   "execution_count": null,
   "id": "8ba93e4d",
   "metadata": {},
   "outputs": [],
   "source": []
  },
  {
   "cell_type": "markdown",
   "id": "9e10b8ff",
   "metadata": {},
   "source": [
    "#### Ejercicio 3: ¿Cuáles son todos los títulos del país 'India' lanzados después de 2018?"
   ]
  },
  {
   "cell_type": "code",
   "execution_count": null,
   "id": "7de490ce",
   "metadata": {},
   "outputs": [],
   "source": []
  },
  {
   "cell_type": "markdown",
   "id": "4e881098",
   "metadata": {},
   "source": [
    "#### Ejercicio 4: ¿Qué títulos tienen clasificación 'TV-14' o 'R'?"
   ]
  },
  {
   "cell_type": "code",
   "execution_count": null,
   "id": "79cc1fbe",
   "metadata": {},
   "outputs": [],
   "source": []
  },
  {
   "cell_type": "markdown",
   "id": "5367bf08",
   "metadata": {},
   "source": [
    "#### Ejercicio 5: ¿Cuáles son los títulos dirigidos por 'Christopher Nolan' o 'Martin Scorsese'? ¿Cuántos a dirigido cada uno de los directores?"
   ]
  },
  {
   "cell_type": "code",
   "execution_count": null,
   "id": "e0562310",
   "metadata": {},
   "outputs": [],
   "source": []
  },
  {
   "cell_type": "markdown",
   "id": "fc0c621e",
   "metadata": {},
   "source": [
    "#### Ejercicio 6: ¿Qué títulos pertenecen a los países 'United States', 'United Kingdom' o 'Canada'? Dentro de estos países, ¿cuántas películas tienen más de un lenguaje?"
   ]
  },
  {
   "cell_type": "code",
   "execution_count": null,
   "id": "397619a4",
   "metadata": {},
   "outputs": [],
   "source": []
  },
  {
   "cell_type": "markdown",
   "id": "6e36f1ba",
   "metadata": {},
   "source": [
    "#### Ejercicio 7: ¿Qué títulos fueron lanzados entre 2015 y 2020, inclusive?"
   ]
  },
  {
   "cell_type": "code",
   "execution_count": null,
   "id": "f91a0707",
   "metadata": {},
   "outputs": [],
   "source": []
  },
  {
   "cell_type": "markdown",
   "id": "8ad3dbc3",
   "metadata": {},
   "source": [
    "#### Ejercicio 8: ¿Cuáles son los títulos cuya puntuación en IMDb está entre 6.5 y 8.0 y que no sepamos cual es su duración?"
   ]
  },
  {
   "cell_type": "code",
   "execution_count": null,
   "id": "08b9c8a1",
   "metadata": {},
   "outputs": [],
   "source": []
  },
  {
   "cell_type": "markdown",
   "id": "0afd742e",
   "metadata": {},
   "source": [
    "#### Ejercicio 9: ¿Cuáles son las películas cuya duración de 90 y 150 minutos?"
   ]
  },
  {
   "cell_type": "code",
   "execution_count": null,
   "id": "80d4c76d",
   "metadata": {},
   "outputs": [],
   "source": []
  },
  {
   "cell_type": "markdown",
   "id": "258a99d3",
   "metadata": {},
   "source": [
    "#### Ejercicio 10: ¿Cuáles son los títulos que contienen la palabra 'Love' en su título y que sean de tipo TV Show?"
   ]
  },
  {
   "cell_type": "code",
   "execution_count": null,
   "id": "8daf2abc",
   "metadata": {},
   "outputs": [],
   "source": []
  },
  {
   "cell_type": "markdown",
   "id": "e08091e9",
   "metadata": {},
   "source": [
    "#### Ejercicio 11: ¿Cuáles son los títulos en los que el director tiene el apellido 'Johnson'?"
   ]
  },
  {
   "cell_type": "code",
   "execution_count": null,
   "id": "a8215bbb",
   "metadata": {},
   "outputs": [],
   "source": []
  },
  {
   "cell_type": "markdown",
   "id": "d5bb45ff",
   "metadata": {},
   "source": [
    "#### Ejercicio 12: ¿Tenemos algún documental ('Documentaries') de Mike Tyson?"
   ]
  },
  {
   "cell_type": "code",
   "execution_count": null,
   "id": "ed7861c2",
   "metadata": {},
   "outputs": [],
   "source": []
  },
  {
   "cell_type": "markdown",
   "id": "2bbf4131",
   "metadata": {},
   "source": [
    "#### Ejercicio 13: Selecciona solo las columnas 'title', 'country' y 'release_year' del dataset."
   ]
  },
  {
   "cell_type": "code",
   "execution_count": null,
   "id": "eda1fd35",
   "metadata": {},
   "outputs": [],
   "source": []
  },
  {
   "cell_type": "markdown",
   "id": "3a54ee1c",
   "metadata": {},
   "source": [
    "#### Ejercicio 14: Filtra las columnas que contienen la palabra 'date'."
   ]
  },
  {
   "cell_type": "code",
   "execution_count": null,
   "id": "fb861526",
   "metadata": {},
   "outputs": [],
   "source": []
  },
  {
   "cell_type": "markdown",
   "id": "2fdc640c",
   "metadata": {},
   "source": [
    "#### Ejercicio 15: Usando `query()`, filtra todos los títulos del país 'France' con una duración de 80 minutos."
   ]
  },
  {
   "cell_type": "code",
   "execution_count": null,
   "id": "686daaf5",
   "metadata": {},
   "outputs": [],
   "source": []
  },
  {
   "cell_type": "markdown",
   "id": "dbcb48d5",
   "metadata": {},
   "source": [
    "#### Ejercicio 16: Filtra los títulos que son películas ('Movie') y fueron lanzados antes de 2010."
   ]
  },
  {
   "cell_type": "code",
   "execution_count": null,
   "id": "bc49401c",
   "metadata": {},
   "outputs": [],
   "source": []
  },
  {
   "cell_type": "markdown",
   "id": "d7ed2fd6",
   "metadata": {},
   "source": [
    "#### Ejercicio 17: Encuentra los 10 títulos con las puntuaciones más altas en IMDb."
   ]
  },
  {
   "cell_type": "code",
   "execution_count": null,
   "id": "0ca3bb19",
   "metadata": {},
   "outputs": [],
   "source": []
  },
  {
   "cell_type": "markdown",
   "id": "46219613",
   "metadata": {},
   "source": [
    "#### Ejercicio 18: Encuentra los 5 títulos con las puntuaciones más bajas en IMDb."
   ]
  },
  {
   "cell_type": "code",
   "execution_count": null,
   "id": "546d1ad2",
   "metadata": {},
   "outputs": [],
   "source": []
  },
  {
   "cell_type": "markdown",
   "id": "3eabf7b5",
   "metadata": {},
   "source": [
    "#### Ejercicio 19: Filtra todos los títulos que no tienen un director asignado (valores nulos en la columna 'director')."
   ]
  },
  {
   "cell_type": "code",
   "execution_count": null,
   "id": "8790fdaa",
   "metadata": {},
   "outputs": [],
   "source": []
  },
  {
   "cell_type": "markdown",
   "id": "f4597e27",
   "metadata": {},
   "source": [
    "#### Ejercicio 20: Filtra todos los títulos que tienen información completa en las columnas 'title', 'country' y 'IMDB Score'."
   ]
  },
  {
   "cell_type": "code",
   "execution_count": null,
   "id": "540ac699",
   "metadata": {},
   "outputs": [],
   "source": []
  },
  {
   "cell_type": "markdown",
   "id": "d18a16fe",
   "metadata": {},
   "source": [
    "#### Ejercicio 21: Identifica si hay títulos duplicados en la columna 'title'."
   ]
  },
  {
   "cell_type": "code",
   "execution_count": null,
   "id": "8b36763b",
   "metadata": {},
   "outputs": [],
   "source": []
  }
 ],
 "metadata": {
  "kernelspec": {
   "display_name": "Python 3",
   "language": "python",
   "name": "python3"
  },
  "language_info": {
   "codemirror_mode": {
    "name": "ipython",
    "version": 3
   },
   "file_extension": ".py",
   "mimetype": "text/x-python",
   "name": "python",
   "nbconvert_exporter": "python",
   "pygments_lexer": "ipython3",
   "version": "3.11.9"
  }
 },
 "nbformat": 4,
 "nbformat_minor": 5
}
